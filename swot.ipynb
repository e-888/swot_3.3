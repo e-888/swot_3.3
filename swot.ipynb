{
  "nbformat": 4,
  "nbformat_minor": 0,
  "metadata": {
    "colab": {
      "name": "swot",
      "provenance": [],
      "collapsed_sections": []
    },
    "kernelspec": {
      "display_name": "Python 3",
      "name": "python3"
    }
  },
  "cells": [
    {
      "cell_type": "code",
      "metadata": {
        "colab": {
          "base_uri": "https://localhost:8080/"
        },
        "id": "tr-m4Rfq7qyH",
        "outputId": "0b92b5eb-cbc9-4a6e-f067-4520e4463e1f"
      },
      "source": [
        "print(\"Беляев Евгений Валерьевич\")\n",
        "print(\"20БИ-2\")\n",
        "!ln -fs /usr/share/zoneinfo/Europe/Moscow /etc/localtime\n",
        "!date"
      ],
      "execution_count": null,
      "outputs": [
        {
          "output_type": "stream",
          "text": [
            "Беляев Евгений Валерьевич\n",
            "20БИ-2\n",
            "Tue Mar 23 17:24:53 MSK 2021\n"
          ],
          "name": "stdout"
        }
      ]
    },
    {
      "cell_type": "code",
      "metadata": {
        "colab": {
          "base_uri": "https://localhost:8080/",
          "height": 0
        },
        "id": "2deN-blJk2aZ",
        "outputId": "7937a9e8-0969-4225-c51b-bba963a0256e"
      },
      "source": [
        "#связь с диском и открытие таблицы\n",
        "\n",
        "from google.colab import auth\n",
        "auth.authenticate_user()\n",
        "!pip install --upgrade gspread\n",
        "import gspread\n",
        "from google.colab import drive\n",
        "drive.mount('/content/drive')\n",
        "import os\n",
        "print(os.getcwd())\n",
        "print(os.listdir('./'))\n",
        "print(os.listdir('/content/drive'))\n",
        "print(os.listdir('/content/drive/MyDrive/Colab Notebooks/swot'))\n",
        "%ll -lF /content/drive/MyDrive/\"Colab Notebooks\"/swot\n",
        "from oauth2client.client import GoogleCredentials\n",
        "gs = gspread.authorize(GoogleCredentials.get_application_default())\n",
        "table = gs.open_by_key('1eyKAnrIGESkF_5K7kDg2xMZEr2xf2EvIV-tFhBDMhGg') \n",
        "!ln -fs /usr/share/zoneinfo/Europe/Moscow /etc/localtime\n",
        "!date"
      ],
      "execution_count": 38,
      "outputs": [
        {
          "output_type": "stream",
          "text": [
            "Requirement already up-to-date: gspread in /usr/local/lib/python3.7/dist-packages (3.7.0)\n",
            "Requirement already satisfied, skipping upgrade: google-auth-oauthlib>=0.4.1 in /usr/local/lib/python3.7/dist-packages (from gspread) (0.4.3)\n",
            "Requirement already satisfied, skipping upgrade: google-auth>=1.12.0 in /usr/local/lib/python3.7/dist-packages (from gspread) (1.27.1)\n",
            "Requirement already satisfied, skipping upgrade: requests-oauthlib>=0.7.0 in /usr/local/lib/python3.7/dist-packages (from google-auth-oauthlib>=0.4.1->gspread) (1.3.0)\n",
            "Requirement already satisfied, skipping upgrade: cachetools<5.0,>=2.0.0 in /usr/local/lib/python3.7/dist-packages (from google-auth>=1.12.0->gspread) (4.2.1)\n",
            "Requirement already satisfied, skipping upgrade: rsa<5,>=3.1.4; python_version >= \"3.6\" in /usr/local/lib/python3.7/dist-packages (from google-auth>=1.12.0->gspread) (4.7.2)\n",
            "Requirement already satisfied, skipping upgrade: six>=1.9.0 in /usr/local/lib/python3.7/dist-packages (from google-auth>=1.12.0->gspread) (1.15.0)\n",
            "Requirement already satisfied, skipping upgrade: pyasn1-modules>=0.2.1 in /usr/local/lib/python3.7/dist-packages (from google-auth>=1.12.0->gspread) (0.2.8)\n",
            "Requirement already satisfied, skipping upgrade: setuptools>=40.3.0 in /usr/local/lib/python3.7/dist-packages (from google-auth>=1.12.0->gspread) (54.1.2)\n",
            "Requirement already satisfied, skipping upgrade: oauthlib>=3.0.0 in /usr/local/lib/python3.7/dist-packages (from requests-oauthlib>=0.7.0->google-auth-oauthlib>=0.4.1->gspread) (3.1.0)\n",
            "Requirement already satisfied, skipping upgrade: requests>=2.0.0 in /usr/local/lib/python3.7/dist-packages (from requests-oauthlib>=0.7.0->google-auth-oauthlib>=0.4.1->gspread) (2.23.0)\n",
            "Requirement already satisfied, skipping upgrade: pyasn1>=0.1.3 in /usr/local/lib/python3.7/dist-packages (from rsa<5,>=3.1.4; python_version >= \"3.6\"->google-auth>=1.12.0->gspread) (0.4.8)\n",
            "Requirement already satisfied, skipping upgrade: idna<3,>=2.5 in /usr/local/lib/python3.7/dist-packages (from requests>=2.0.0->requests-oauthlib>=0.7.0->google-auth-oauthlib>=0.4.1->gspread) (2.10)\n",
            "Requirement already satisfied, skipping upgrade: chardet<4,>=3.0.2 in /usr/local/lib/python3.7/dist-packages (from requests>=2.0.0->requests-oauthlib>=0.7.0->google-auth-oauthlib>=0.4.1->gspread) (3.0.4)\n",
            "Requirement already satisfied, skipping upgrade: urllib3!=1.25.0,!=1.25.1,<1.26,>=1.21.1 in /usr/local/lib/python3.7/dist-packages (from requests>=2.0.0->requests-oauthlib>=0.7.0->google-auth-oauthlib>=0.4.1->gspread) (1.24.3)\n",
            "Requirement already satisfied, skipping upgrade: certifi>=2017.4.17 in /usr/local/lib/python3.7/dist-packages (from requests>=2.0.0->requests-oauthlib>=0.7.0->google-auth-oauthlib>=0.4.1->gspread) (2020.12.5)\n",
            "Drive already mounted at /content/drive; to attempt to forcibly remount, call drive.mount(\"/content/drive\", force_remount=True).\n",
            "/content\n",
            "['.config', 'adc.json', 'drive', 'sample_data']\n",
            "['.shortcut-targets-by-id', 'MyDrive', '.file-revisions-by-id', '.Trash']\n",
            "['swot.gsheet', 'swot_dictionary.json']\n",
            "total 1\n",
            "-rw------- 1 root 236 Mar 23 18:35 swot_dictionary.json\n",
            "-rw------- 1 root 151 Mar 23 18:23 swot.gsheet\n",
            "Tue Mar 23 18:36:36 MSK 2021\n"
          ],
          "name": "stdout"
        }
      ]
    },
    {
      "cell_type": "code",
      "metadata": {
        "id": "I65LkrfjpjqC",
        "colab": {
          "base_uri": "https://localhost:8080/",
          "height": 484
        },
        "outputId": "958b4313-0348-4fd6-f809-80303b48c22e"
      },
      "source": [
        "#strengths\n",
        "print(\"strengths\")\n",
        "worksheet = table.worksheet(\"strengths\")\n",
        "rows = worksheet.get_all_values()\n",
        "strength = list()\n",
        "actions = list()\n",
        "importance = list()\n",
        "probability = list()\n",
        "power = list()\n",
        "power_sh = list()\n",
        "power_raw = list()\n",
        "i = 0\n",
        "for row in rows:\n",
        "  if (0 < i < 6):\n",
        "    print(i, row)\n",
        "    strength.append(row[0])\n",
        "    importance.append(int(row[1]))\n",
        "    probability.append(float(row[2]))\n",
        "    power.append(int(row[1]) * float(row[2]))\n",
        "    power_raw = list()\n",
        "    power_raw.append(int(row[1]) * float(row[2]))\n",
        "    power_sh.append(power_raw)\n",
        "  i += 1\n",
        "print('Values: ', power_sh)\n",
        "worksheet.update('D2:D100', power_sh)\n",
        "result = sum(power)\n",
        "print('Result: ', result)\n",
        " \n",
        " \n",
        "import matplotlib\n",
        "import matplotlib.pyplot as plt\n",
        "import numpy as np\n",
        "i = 0\n",
        "line = list()\n",
        "cols = worksheet.col_values(1)\n",
        "for col in cols:\n",
        "  if (i > 0):\n",
        "    line.append(i)\n",
        "  i+=1\n",
        "powers = power\n",
        "x = np.arange(len(line))\n",
        "width = 0.5\n",
        "fig, ax = plt.subplots()\n",
        "rects1 = ax.bar(x - width/2, powers, width)\n",
        "a = worksheet.col_values(1)\n",
        "ax.set_ylabel('Intensity')\n",
        "ax.set_title('Strengths')\n",
        "ax.set_xlabel('Parameters')\n",
        "ax.set_xticks(x)\n",
        "ax.set_xticklabels(line)\n",
        "fig.tight_layout()\n",
        "plt.show()\n",
        "\n",
        "k = 0\n",
        "for col in cols:\n",
        "  if (k > 0):\n",
        "    print(k, ' - ', col)\n",
        "  k += 1"
      ],
      "execution_count": 33,
      "outputs": [
        {
          "output_type": "stream",
          "text": [
            "strengths\n",
            "1 ['создание качественного продукта', '10', '1', '10']\n",
            "2 ['минимизация налогов ', '5', '0.2', '1']\n",
            "3 ['возможность получения прибыли', '10', '0.5', '5']\n",
            "4 ['возможность помощи детям', '10', '0.9', '9']\n",
            "Values:  [[10.0], [1.0], [5.0], [9.0]]\n",
            "Result:  25.0\n"
          ],
          "name": "stdout"
        },
        {
          "output_type": "display_data",
          "data": {
            "image/png": "[encoded data removed]",
            "text/plain": [
              "<Figure size 432x288 with 1 Axes>"
            ]
          },
          "metadata": {
            "tags": [],
            "needs_background": "light"
          }
        },
        {
          "output_type": "stream",
          "text": [
            "1  -  создание качественного продукта\n",
            "2  -  минимизация налогов \n",
            "3  -  возможность получения прибыли\n",
            "4  -  возможность помощи детям\n"
          ],
          "name": "stdout"
        }
      ]
    },
    {
      "cell_type": "code",
      "metadata": {
        "colab": {
          "base_uri": "https://localhost:8080/",
          "height": 484
        },
        "id": "f4YbmyA7F_QN",
        "outputId": "005acc14-3d7c-4a7f-a6a3-d3b50e132738"
      },
      "source": [
        "#weaknesses\n",
        "print(\"weaknesses\")\n",
        "worksheet = table.worksheet(\"weaknesses\")\n",
        "rows = worksheet.get_all_values()\n",
        "weaknesses = list()\n",
        "actions = list()\n",
        "importance = list()\n",
        "probability = list()\n",
        "power = list()\n",
        "power_sh = list()\n",
        "power_raw = list()\n",
        "i = 0\n",
        "for row in rows:\n",
        "  if (0 < i < 5):\n",
        "    print(i, row)\n",
        "    weaknesses.append(row[0])\n",
        "    importance.append(int(row[1]))\n",
        "    probability.append(float(row[2]))\n",
        "    power.append(int(row[1]) * float(row[2]))\n",
        "    power_raw = list()\n",
        "    power_raw.append(int(row[1]) * float(row[2]))\n",
        "    power_sh.append(power_raw)\n",
        "  i += 1\n",
        "print('Values: ', power_sh)\n",
        "worksheet.update('D2:D100', power_sh)\n",
        "result = sum(power)\n",
        "print('Result: ', result)\n",
        " \n",
        " \n",
        "import matplotlib\n",
        "import matplotlib.pyplot as plt\n",
        "import numpy as np\n",
        "i = 0\n",
        "line = list()\n",
        "cols = worksheet.col_values(1)\n",
        "for col in cols:\n",
        "  if (i > 0):\n",
        "    line.append(i)\n",
        "  i+=1\n",
        "powers = power\n",
        "x = np.arange(len(line))\n",
        "width = 0.5\n",
        "fig, ax = plt.subplots()\n",
        "rects1 = ax.bar(x - width/2, powers, width)\n",
        "a = worksheet.col_values(1)\n",
        "ax.set_ylabel('Intensity')\n",
        "ax.set_title('Weaknesses')\n",
        "ax.set_xlabel('Parameters')\n",
        "ax.set_xticks(x)\n",
        "ax.set_xticklabels(line)\n",
        "fig.tight_layout()\n",
        "plt.show()\n",
        "\n",
        "k = 0\n",
        "for col in cols:\n",
        "  if (k > 0):\n",
        "    print(k, ' - ', col)\n",
        "  k += 1"
      ],
      "execution_count": 34,
      "outputs": [
        {
          "output_type": "stream",
          "text": [
            "weaknesses\n",
            "1 ['отсутствие опыта работы с детьми ', '9', '0.8', '7.2']\n",
            "2 ['отсутствие клиентской базы', '9', '0.8', '7.2']\n",
            "3 ['недостаток финансовых ресурсов', '8', '0.5', '4']\n",
            "4 ['нехватка кадров', '6', '0.3', '1.8']\n",
            "Values:  [[7.2], [7.2], [4.0], [1.7999999999999998]]\n",
            "Result:  20.2\n"
          ],
          "name": "stdout"
        },
        {
          "output_type": "display_data",
          "data": {
            "image/png": "[encoded data removed]",
            "text/plain": [
              "<Figure size 432x288 with 1 Axes>"
            ]
          },
          "metadata": {
            "tags": [],
            "needs_background": "light"
          }
        },
        {
          "output_type": "stream",
          "text": [
            "1  -  отсутствие опыта работы с детьми \n",
            "2  -  отсутствие клиентской базы\n",
            "3  -  недостаток финансовых ресурсов\n",
            "4  -  нехватка кадров\n"
          ],
          "name": "stdout"
        }
      ]
    },
    {
      "cell_type": "code",
      "metadata": {
        "colab": {
          "base_uri": "https://localhost:8080/",
          "height": 484
        },
        "id": "5R7d01oEGaUj",
        "outputId": "0641e7d4-45d9-442b-8d9c-db90e5be9ef7"
      },
      "source": [
        "#opportunities\n",
        "print(\"opportunities\")\n",
        "worksheet = table.worksheet(\"opportunities\")\n",
        "rows = worksheet.get_all_values()\n",
        "opportunities = list()\n",
        "actions = list()\n",
        "importance = list()\n",
        "probability = list()\n",
        "power = list()\n",
        "power_sh = list()\n",
        "power_raw = list()\n",
        "i = 0\n",
        "for row in rows:\n",
        "  if (0 < i < 5):\n",
        "    print(i, row)\n",
        "    opportunities.append(row[0])\n",
        "    importance.append(int(row[1]))\n",
        "    probability.append(float(row[2]))\n",
        "    power.append(int(row[1]) * float(row[2]))\n",
        "    power_raw = list()\n",
        "    power_raw.append(int(row[1]) * float(row[2]))\n",
        "    power_sh.append(power_raw)\n",
        "  i += 1\n",
        "print('Values: ', power_sh)\n",
        "worksheet.update('D2:D100', power_sh)\n",
        "result = sum(power)\n",
        "print('Result: ', result)\n",
        " \n",
        " \n",
        "import matplotlib\n",
        "import matplotlib.pyplot as plt\n",
        "import numpy as np\n",
        "i = 0\n",
        "line = list()\n",
        "cols = worksheet.col_values(1)\n",
        "for col in cols:\n",
        "  if (i > 0):\n",
        "    line.append(i)\n",
        "  i+=1\n",
        "powers = power\n",
        "x = np.arange(len(line))\n",
        "width = 0.5\n",
        "fig, ax = plt.subplots()\n",
        "rects1 = ax.bar(x - width/2, powers, width)\n",
        "a = worksheet.col_values(1)\n",
        "ax.set_ylabel('Intensity')\n",
        "ax.set_title('Opportunities')\n",
        "ax.set_xlabel('Parameters')\n",
        "ax.set_xticks(x)\n",
        "ax.set_xticklabels(line)\n",
        "fig.tight_layout()\n",
        "plt.show()\n",
        "\n",
        "k = 0\n",
        "for col in cols:\n",
        "  if (k > 0):\n",
        "    print(k, ' - ', col)\n",
        "  k += 1"
      ],
      "execution_count": 35,
      "outputs": [
        {
          "output_type": "stream",
          "text": [
            "opportunities\n",
            "1 ['спрос на услугу', '5', '0.5', '2.5']\n",
            "2 ['возможность быстро организовать процесс ', '3', '0.6', '1.8']\n",
            "3 ['уникальность услуги ', '10', '1', '10']\n",
            "4 ['желание работать с детьми ', '10', '1', '10']\n",
            "Values:  [[2.5], [1.7999999999999998], [10.0], [10.0]]\n",
            "Result:  24.3\n"
          ],
          "name": "stdout"
        },
        {
          "output_type": "display_data",
          "data": {
            "image/png": "[encoded data removed]",
            "text/plain": [
              "<Figure size 432x288 with 1 Axes>"
            ]
          },
          "metadata": {
            "tags": [],
            "needs_background": "light"
          }
        },
        {
          "output_type": "stream",
          "text": [
            "1  -  спрос на услугу\n",
            "2  -  возможность быстро организовать процесс \n",
            "3  -  уникальность услуги \n",
            "4  -  желание работать с детьми \n"
          ],
          "name": "stdout"
        }
      ]
    },
    {
      "cell_type": "code",
      "metadata": {
        "colab": {
          "base_uri": "https://localhost:8080/",
          "height": 552
        },
        "id": "Ou316RK2JQv5",
        "outputId": "36b7a718-ca23-458b-ae55-7eee9de2ffae"
      },
      "source": [
        "#threats\n",
        "print(\"threats\")\n",
        "worksheet = table.worksheet(\"threats\")\n",
        "rows = worksheet.get_all_values()\n",
        "threats = list()\n",
        "actions = list()\n",
        "importance = list()\n",
        "probability = list()\n",
        "power = list()\n",
        "power_sh = list()\n",
        "power_raw = list()\n",
        "i = 0\n",
        "for row in rows:\n",
        "  if (0 < i < 7):\n",
        "    print(i, row)\n",
        "    threats.append(row[0])\n",
        "    importance.append(int(row[1]))\n",
        "    probability.append(float(row[2]))\n",
        "    power.append(int(row[1]) * float(row[2]))\n",
        "    power_raw = list()\n",
        "    power_raw.append(int(row[1]) * float(row[2]))\n",
        "    power_sh.append(power_raw)\n",
        "  i += 1\n",
        "print('Values: ', power_sh)\n",
        "worksheet.update('D2:D100', power_sh)\n",
        "result = sum(power)\n",
        "print('Result: ', result)\n",
        " \n",
        " \n",
        "import matplotlib\n",
        "import matplotlib.pyplot as plt\n",
        "import numpy as np\n",
        "i = 0\n",
        "line = list()\n",
        "cols = worksheet.col_values(1)\n",
        "for col in cols:\n",
        "  if (i > 0):\n",
        "    line.append(i)\n",
        "  i+=1\n",
        "powers = power\n",
        "x = np.arange(len(line))\n",
        "width = 0.5\n",
        "fig, ax = plt.subplots()\n",
        "rects1 = ax.bar(x - width/2, powers, width)\n",
        "a = worksheet.col_values(1)\n",
        "ax.set_ylabel('Intensity')\n",
        "ax.set_title('Threats')\n",
        "ax.set_xlabel('Parameters')\n",
        "ax.set_xticks(x)\n",
        "ax.set_xticklabels(line)\n",
        "fig.tight_layout()\n",
        "plt.show()\n",
        "\n",
        "k = 0\n",
        "for col in cols:\n",
        "  if (k > 0):\n",
        "    print(k, ' - ', col)\n",
        "  k += 1"
      ],
      "execution_count": 36,
      "outputs": [
        {
          "output_type": "stream",
          "text": [
            "threats\n",
            "1 ['Затруднения клиентов оплачивать услугу', '2', '0.4', '0.8', '']\n",
            "2 ['Угроза вхождения на рынок новых участников', '8', '0.7', '5.6', '']\n",
            "3 ['Угроза появления субститутов (заменителей )', '1', '0.9', '0.9', '']\n",
            "4 ['рыночная власть покупателей', '9', '0.9', '8.1', '']\n",
            "5 ['Рыночная власть поставщиков', '9', '0.1', '0.9', '']\n",
            "6 ['Соперничество между действующими конкурентами', '8', '0.7', '5.6', '5.6']\n",
            "Values:  [[0.8], [5.6], [0.9], [8.1], [0.9], [5.6]]\n",
            "Result:  21.9\n"
          ],
          "name": "stdout"
        },
        {
          "output_type": "display_data",
          "data": {
            "image/png": "[encoded data removed]",
            "text/plain": [
              "<Figure size 432x288 with 1 Axes>"
            ]
          },
          "metadata": {
            "tags": [],
            "needs_background": "light"
          }
        },
        {
          "output_type": "stream",
          "text": [
            "1  -  Затруднения клиентов оплачивать услугу\n",
            "2  -  Угроза вхождения на рынок новых участников\n",
            "3  -  Угроза появления субститутов (заменителей )\n",
            "4  -  рыночная власть покупателей\n",
            "5  -  Рыночная власть поставщиков\n",
            "6  -  Соперничество между действующими конкурентами\n"
          ],
          "name": "stdout"
        }
      ]
    },
    {
      "cell_type": "code",
      "metadata": {
        "colab": {
          "base_uri": "https://localhost:8080/",
          "height": 532
        },
        "id": "7RvysaNoNEFL",
        "outputId": "dd3caaaf-f1bd-442c-ba09-355dbf7d40d3"
      },
      "source": [
        "#общая таблица\n",
        "print('SWOT')\n",
        "import os\n",
        "import json\n",
        "\n",
        "def matplot(element):\n",
        "  import matplotlib.pyplot as plt\n",
        "  x = list()\n",
        "  x_float = list()\n",
        "  title = list()\n",
        "  y_float = list()\n",
        "\n",
        "  worksheet = table.worksheet('strengths')\n",
        "  stren =  worksheet.acell('D8').value\n",
        "  worksheet = table.worksheet('weaknesses')\n",
        "  weak =  worksheet.acell('D8').value\n",
        "  worksheet = table.worksheet('opportunities')\n",
        "  op =  worksheet.acell('D8').value\n",
        "  worksheet = table.worksheet('threats')\n",
        "  thr =  worksheet.acell('D8').value\n",
        "  \n",
        "  worksheet = table.worksheet('summary')\n",
        "  worksheet.update('B1', stren)\n",
        "  stren = worksheet.acell('B1').value\n",
        "  worksheet.update('B2', weak)\n",
        "  weak = worksheet.acell('B2').value\n",
        "  worksheet.update('B3', op)\n",
        "  op = worksheet.acell('B3').value\n",
        "  worksheet.update('B4', thr)\n",
        "  thr = worksheet.acell('B4').value\n",
        "\n",
        "  read_file = open('/content/drive/MyDrive/Colab Notebooks/swot/swot_dictionary.json', 'r+')\n",
        "  read_file.write('{Strengths: ')\n",
        "  read_file.write(stren)\n",
        "  read_file.write(', Weaknesses: ')\n",
        "  read_file.write(weak)\n",
        "  read_file.write(', Opportunities: ')\n",
        "  read_file.write(op)\n",
        "  read_file.write(', Threats: ')\n",
        "  read_file.write(thr)\n",
        "  read_file.write('}')\n",
        "  \n",
        "  result = 0\n",
        "  i = 0\n",
        "  for line in read_file.readlines():\n",
        "    i += 1\n",
        "    data = json.loads(line)\n",
        "    title = [\"Strengths\", \"Weaknesses\", \"Opportunities\", \"Threats\", \"Result\"]\n",
        "    x = title\n",
        "    x_float = [1, 2, 3, 4, 5]\n",
        "    result = float(data['strengths']) - 1*float(data['weaknesses']) + float(data['opportunities']) - 1*float(data['threats'])\n",
        "    y = [float(data['strengths']), float(data['weaknesses']), float(data['opportunities']), float(data['threats'])]\n",
        "    y_float = [float(data['strengths']), -1*float(data['weaknesses']), float(data['opportunities']), -1*float(data['threats']),  result]\n",
        "  print(x_float,title,y_float)\n",
        "\n",
        "  worksheet = table.worksheet('summary')\n",
        "  worksheet.update('B5', result)\n",
        "  read_file.close()\n",
        "  x_pos = list()\n",
        "  for i in range (x_float.__len__()):\n",
        "    x_pos.append(i)\n",
        "  fig=plt.figure(figsize=(8,6), dpi=72)\n",
        "  plt.bar(x_pos, y_float, width=0.75, align='edge', alpha=0.4)\n",
        "  plt.xticks(x_pos,  x_float, fontsize=14)\n",
        "  plt.xlabel('Обозначения', fontsize=14)\n",
        "  plt.ylabel('Мощность воздействия', fontsize=14)\n",
        "  plt.title('SWOT', fontsize=14)\n",
        "  plt.grid(True, color='r', linestyle='-', linewidth=2)\n",
        "  plt.show()\n",
        "\n",
        "  for i in range(title.__len__()):\n",
        "    print(i+1, \" - \", title[i], \"; \")\n",
        "    i += 1\n",
        "\n",
        "if __name__ == \"__main__\":\n",
        "    element = 'swot_dictionary'\n",
        "    matplot(element)"
      ],
      "execution_count": 43,
      "outputs": [
        {
          "output_type": "stream",
          "text": [
            "SWOT\n",
            "[1, 2, 3, 4, 5] ['Strengths', 'Weaknesses', 'Opportunities', 'Threats', 'Result'] [25.0, -20.2, 24.3, -21.9, 7.200000000000003]\n"
          ],
          "name": "stdout"
        },
        {
          "output_type": "display_data",
          "data": {
            "image/png": "[encoded data removed]",
            "text/plain": [
              "<Figure size 576x432 with 1 Axes>"
            ]
          },
          "metadata": {
            "tags": [],
            "needs_background": "light"
          }
        },
        {
          "output_type": "stream",
          "text": [
            "1  -  Strengths ; \n",
            "2  -  Weaknesses ; \n",
            "3  -  Opportunities ; \n",
            "4  -  Threats ; \n",
            "5  -  Result ; \n"
          ],
          "name": "stdout"
        }
      ]
    }
  ]
}