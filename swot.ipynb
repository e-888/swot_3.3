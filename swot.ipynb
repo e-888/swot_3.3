{
  "nbformat": 4,
  "nbformat_minor": 0,
  "metadata": {
    "colab": {
      "name": "swot",
      "provenance": [],
      "collapsed_sections": []
    },
    "kernelspec": {
      "display_name": "Python 3",
      "name": "python3"
    }
  },
  "cells": [
    {
      "cell_type": "code",
      "metadata": {
        "colab": {
          "base_uri": "https://localhost:8080/"
        },
        "id": "tr-m4Rfq7qyH",
        "outputId": "1c98aa5e-ce6b-4818-d37d-a76db2634d98"
      },
      "source": [
        "print(\"Беляев Евгений Валерьевич\")\r\n",
        "print(\"20БИ-2\")"
      ],
      "execution_count": 120,
      "outputs": [
        {
          "output_type": "stream",
          "text": [
            "Беляев Евгений Валерьевич\n",
            "20БИ-2\n"
          ],
          "name": "stdout"
        }
      ]
    },
    {
      "cell_type": "code",
      "metadata": {
        "colab": {
          "base_uri": "https://localhost:8080/"
        },
        "id": "2deN-blJk2aZ",
        "outputId": "eb3215d5-f940-46fa-82d0-8b7675db5f67"
      },
      "source": [
        "from google.colab import auth\r\n",
        "auth.authenticate_user()\r\n",
        "!pip install --upgrade gspread\r\n",
        "import gspread\r\n",
        "from google.colab import drive\r\n",
        "drive.mount('/content/drive')\r\n",
        "import os\r\n",
        "print(os.getcwd())\r\n",
        "print(os.listdir('./'))\r\n",
        "print(os.listdir('/content/drive'))\r\n",
        "print(os.listdir('/content/drive/MyDrive/Colab Notebooks/swot'))\r\n",
        "%ll -lF /content/drive/MyDrive/\"Colab Notebooks\"/swot\r\n",
        "from oauth2client.client import GoogleCredentials\r\n",
        "gs = gspread.authorize(GoogleCredentials.get_application_default())\r\n",
        "!ln -fs /usr/share/zoneinfo/Europe/Moscow /etc/localtime\r\n",
        "!date"
      ],
      "execution_count": 121,
      "outputs": [
        {
          "output_type": "stream",
          "text": [
            "Requirement already up-to-date: gspread in /usr/local/lib/python3.7/dist-packages (3.7.0)\n",
            "Requirement already satisfied, skipping upgrade: google-auth>=1.12.0 in /usr/local/lib/python3.7/dist-packages (from gspread) (1.27.0)\n",
            "Requirement already satisfied, skipping upgrade: google-auth-oauthlib>=0.4.1 in /usr/local/lib/python3.7/dist-packages (from gspread) (0.4.2)\n",
            "Requirement already satisfied, skipping upgrade: rsa<5,>=3.1.4; python_version >= \"3.6\" in /usr/local/lib/python3.7/dist-packages (from google-auth>=1.12.0->gspread) (4.7.2)\n",
            "Requirement already satisfied, skipping upgrade: setuptools>=40.3.0 in /usr/local/lib/python3.7/dist-packages (from google-auth>=1.12.0->gspread) (54.0.0)\n",
            "Requirement already satisfied, skipping upgrade: cachetools<5.0,>=2.0.0 in /usr/local/lib/python3.7/dist-packages (from google-auth>=1.12.0->gspread) (4.2.1)\n",
            "Requirement already satisfied, skipping upgrade: six>=1.9.0 in /usr/local/lib/python3.7/dist-packages (from google-auth>=1.12.0->gspread) (1.15.0)\n",
            "Requirement already satisfied, skipping upgrade: pyasn1-modules>=0.2.1 in /usr/local/lib/python3.7/dist-packages (from google-auth>=1.12.0->gspread) (0.2.8)\n",
            "Requirement already satisfied, skipping upgrade: requests-oauthlib>=0.7.0 in /usr/local/lib/python3.7/dist-packages (from google-auth-oauthlib>=0.4.1->gspread) (1.3.0)\n",
            "Requirement already satisfied, skipping upgrade: pyasn1>=0.1.3 in /usr/local/lib/python3.7/dist-packages (from rsa<5,>=3.1.4; python_version >= \"3.6\"->google-auth>=1.12.0->gspread) (0.4.8)\n",
            "Requirement already satisfied, skipping upgrade: oauthlib>=3.0.0 in /usr/local/lib/python3.7/dist-packages (from requests-oauthlib>=0.7.0->google-auth-oauthlib>=0.4.1->gspread) (3.1.0)\n",
            "Requirement already satisfied, skipping upgrade: requests>=2.0.0 in /usr/local/lib/python3.7/dist-packages (from requests-oauthlib>=0.7.0->google-auth-oauthlib>=0.4.1->gspread) (2.23.0)\n",
            "Requirement already satisfied, skipping upgrade: certifi>=2017.4.17 in /usr/local/lib/python3.7/dist-packages (from requests>=2.0.0->requests-oauthlib>=0.7.0->google-auth-oauthlib>=0.4.1->gspread) (2020.12.5)\n",
            "Requirement already satisfied, skipping upgrade: idna<3,>=2.5 in /usr/local/lib/python3.7/dist-packages (from requests>=2.0.0->requests-oauthlib>=0.7.0->google-auth-oauthlib>=0.4.1->gspread) (2.10)\n",
            "Requirement already satisfied, skipping upgrade: urllib3!=1.25.0,!=1.25.1,<1.26,>=1.21.1 in /usr/local/lib/python3.7/dist-packages (from requests>=2.0.0->requests-oauthlib>=0.7.0->google-auth-oauthlib>=0.4.1->gspread) (1.24.3)\n",
            "Requirement already satisfied, skipping upgrade: chardet<4,>=3.0.2 in /usr/local/lib/python3.7/dist-packages (from requests>=2.0.0->requests-oauthlib>=0.7.0->google-auth-oauthlib>=0.4.1->gspread) (3.0.4)\n",
            "Drive already mounted at /content/drive; to attempt to forcibly remount, call drive.mount(\"/content/drive\", force_remount=True).\n",
            "/content\n",
            "['.config', 'drive', 'adc.json', 'sample_data']\n",
            "['.shortcut-targets-by-id', 'MyDrive', '.file-revisions-by-id', '.Trash']\n",
            "['swot.gsheet', 'overall.png', 'threats.png', 'opportunities.png', 'strengths.png', 'weaknesses.png']\n",
            "total 64\n",
            "-rw------- 1 root 12193 Mar  3 22:06 opportunities.png\n",
            "-rw------- 1 root 14115 Mar  3 21:41 overall.png\n",
            "-rw------- 1 root 11880 Mar  3 22:09 strengths.png\n",
            "-rw------- 1 root   151 Mar  3 22:55 swot.gsheet\n",
            "-rw------- 1 root 12787 Mar  3 21:58 threats.png\n",
            "-rw------- 1 root 12468 Mar  3 22:49 weaknesses.png\n",
            "Wed Mar  3 22:58:51 MSK 2021\n"
          ],
          "name": "stdout"
        }
      ]
    },
    {
      "cell_type": "code",
      "metadata": {
        "colab": {
          "base_uri": "https://localhost:8080/"
        },
        "id": "I53raRMbka-H",
        "outputId": "57a82238-811c-4a1b-c800-fd8dc03a655d"
      },
      "source": [
        "import os \r\n",
        "import time \r\n",
        "print('\\nРаботаем с таблицей') \r\n",
        "%ll -lAF /content/drive/MyDrive/\"Colab Notebooks\"/swot \r\n",
        "try: \r\n",
        "  os.stat('/content/drive/MyDrive/Colab Notebooks/swot/swot.gsheet') \r\n",
        "  table = gs.open_by_key('1eyKAnrIGESkF_5K7kDg2xMZEr2xf2EvIV-tFhBDMhGg') \r\n",
        "except Exception as mistake: \r\n",
        "  print('\\n',mistake) \r\n",
        "  print(\"Необходимо создать таблицу\\n\") \r\n",
        "  %ll -lAF /content/drive/MyDrive/ \r\n",
        "  gs_01 = gs.create('table_01') \r\n",
        "  time.sleep(30) \r\n",
        "  %ll -lAF /content/drive/MyDrive/ \r\n",
        "  print(gs_01) \r\n",
        "  print (gs_01.id) \r\n",
        "  print(dir(gs_01)) \r\n",
        "  %ll -lAF /content/drive/MyDrive/\"Colab Notebooks\"/ \r\n",
        "  %mv /content/drive/MyDrive/table_01.gsheet /content/drive/MyDrive/\"Colab Notebooks\" \r\n",
        "  %ll -lAF /content/drive/MyDrive/\"Colab Notebooks\" \r\n",
        "  print(dir(table))\r\n"
      ],
      "execution_count": 122,
      "outputs": [
        {
          "output_type": "stream",
          "text": [
            "\n",
            "Работаем с таблицей\n",
            "total 64\n",
            "-rw------- 1 root 12193 Mar  3 22:06 opportunities.png\n",
            "-rw------- 1 root 14115 Mar  3 21:41 overall.png\n",
            "-rw------- 1 root 11880 Mar  3 22:09 strengths.png\n",
            "-rw------- 1 root   151 Mar  3 22:55 swot.gsheet\n",
            "-rw------- 1 root 12787 Mar  3 21:58 threats.png\n",
            "-rw------- 1 root 12468 Mar  3 22:49 weaknesses.png\n"
          ],
          "name": "stdout"
        }
      ]
    },
    {
      "cell_type": "code",
      "metadata": {
        "id": "I65LkrfjpjqC",
        "colab": {
          "base_uri": "https://localhost:8080/"
        },
        "outputId": "5e2f4fea-c3b6-4f63-a92f-fdb6d220dee4"
      },
      "source": [
        "print(\"strengths\")\r\n",
        "\r\n",
        "worksheet = table.worksheet(\"strengths\")\r\n",
        "rows = worksheet.get_all_values()\r\n",
        "sname = list()\r\n",
        "importance  = list()\r\n",
        "possibility = list()\r\n",
        "spower = list()\r\n",
        "i=0\r\n",
        "for row in rows:\r\n",
        "  if(i>0):\r\n",
        "    print (i, row)\r\n",
        "    sname.append(row[0])\r\n",
        "    importance .append(int(row[1]))\r\n",
        "    possibility.append(float(row[2]))\r\n",
        "    spower.append(float(row[2])*int(row[1]))\r\n",
        "  i+=1\r\n",
        "for j in range(len(sname)):\r\n",
        "  print(sname[j],\"\\n\", \"importance: \",importance[j], \"possibility: \", possibility[j], \"power: \", spower[j])\r\n",
        "strengths = sum(spower)\r\n",
        "print(\"overall power: \", strengths)\r\n",
        "worksheet = table.worksheet(\"summary\")\r\n",
        "worksheet.update(\"B1\",opportunities)"
      ],
      "execution_count": 123,
      "outputs": [
        {
          "output_type": "stream",
          "text": [
            "strengths\n",
            "1 ['создание качественного продукта', '10', '1', '10']\n",
            "2 ['минимизация налогов ', '5', '0.2', '1']\n",
            "3 ['возможность получения прибыли', '10', '0.5', '5']\n",
            "4 ['возможность помощи детям', '10', '0.9', '9']\n",
            "создание качественного продукта \n",
            " importance:  10 possibility:  1.0 power:  10.0\n",
            "минимизация налогов  \n",
            " importance:  5 possibility:  0.2 power:  1.0\n",
            "возможность получения прибыли \n",
            " importance:  10 possibility:  0.5 power:  5.0\n",
            "возможность помощи детям \n",
            " importance:  10 possibility:  0.9 power:  9.0\n",
            "overall power:  25.0\n"
          ],
          "name": "stdout"
        },
        {
          "output_type": "execute_result",
          "data": {
            "text/plain": [
              "{'spreadsheetId': '1eyKAnrIGESkF_5K7kDg2xMZEr2xf2EvIV-tFhBDMhGg',\n",
              " 'updatedCells': 1,\n",
              " 'updatedColumns': 1,\n",
              " 'updatedRange': 'summary!B1',\n",
              " 'updatedRows': 1}"
            ]
          },
          "metadata": {
            "tags": []
          },
          "execution_count": 123
        }
      ]
    },
    {
      "cell_type": "code",
      "metadata": {
        "colab": {
          "base_uri": "https://localhost:8080/"
        },
        "id": "lIxERCSZfXGc",
        "outputId": "ec01fab9-5d18-4738-f50e-c63a06a19d80"
      },
      "source": [
        "import matplotlib\r\n",
        "matplotlib.use('Agg')\r\n",
        "import matplotlib.pyplot as plt\r\n",
        "import json\r\n",
        "\r\n",
        "def matplot(element):\r\n",
        "    import matplotlib.pyplot as plt\r\n",
        "    x=list()\r\n",
        "    x_float=list()\r\n",
        "    title=list()\r\n",
        "    y_float=list()\r\n",
        "    \r\n",
        "    print('\\n<!!--matplot_data')\r\n",
        "    print('\\n<br>')\r\n",
        "    title = list(range(1,len(sname)+1))\r\n",
        "    x=title\r\n",
        "    x_float = list(range(1,len(sname)+1))\r\n",
        "    #title.append(data['name'])\r\n",
        "    result = strengths\r\n",
        "    y = spower\r\n",
        "    y_float = spower\r\n",
        "    print(x_float,title,y_float)    \r\n",
        "    x_pos=list()\r\n",
        "    for i in range(x_float.__len__()):\r\n",
        "        x_pos.append(i)\r\n",
        "    print('<!--разбивка по абсцисс и значения ординат\\n', len( x_float), x_pos, y_float, ' -->\\n')\r\n",
        "\r\n",
        "    fig=plt.figure(figsize=(8,6), dpi=72)\r\n",
        "    plt.bar(x_pos, y_float, width=0.75, align='edge', alpha=0.4)\r\n",
        "    plt.xticks(x_pos,  x_float, fontsize=14)\r\n",
        "    plt.xlabel('Обозначения', fontsize=14)\r\n",
        "    plt.ylabel('Мощность воздействия', fontsize=14)\r\n",
        "    plt.title('strengths', fontsize=14)\r\n",
        "    plt.grid(True, color='r', linestyle='-', linewidth=2)\r\n",
        "    #plt.draw()\r\n",
        "    plt.show()\r\n",
        "    fig.savefig(\"/content/drive/MyDrive/Colab Notebooks/swot/strengths.png\")\r\n",
        "    print('<div class=\"d-flex flex-row \">')\r\n",
        "    print('<div class=\"card m-1\" style=\"width: 28rem;\">',\r\n",
        "          '<img  src=\"/content/drive/MyDrive/Colab Notebooks/swot/strengths.png\" class=\"card-img-top\" alt=\"...\">',\r\n",
        "          '<div class=\"card-body\">')\r\n",
        "    \r\n",
        "    for i in range(title.__len__()):\r\n",
        "        print(i+1, \" - \", title[i], \"; \")\r\n",
        "        i += 1\r\n",
        "    print('</div>', '</div>')\r\n",
        "    print('<div>')\r\n",
        "    !date\r\n",
        "    \r\n",
        "\r\n",
        "def  to_browser():\r\n",
        "    print(\"Content-type:text/html\\r\\n\")\r\n",
        "    print('\\n',\r\n",
        "    '\\n<html>\\n<head>\\n<title>SWOT</title>\\n<meta charset=\"UTF-8\">',\r\n",
        "    '\\n<meta name=\"viewport\" content=\"width=device-width, initial-scale=1.0\">',\r\n",
        "    '\\n<meta http-equiv=\"X-UA-Compatible\" content=\"ie=edge\">',\r\n",
        "    '\\n<link rel=\"stylesheet\" href=\"https://maxcdn.bootstrapcdn.com/bootstrap/4.0.0-beta/css/bootstrap.min.css\" integrity=\"sha384-/Y6pD6FV/Vv2HJnA6t+vslU6fwYXjCFtcEpHbNJ0lyAFsXTsjBbfaDjzALeQsN6M\" crossorigin=\"anonymous\">',\r\n",
        "    '\\n</head>',\r\n",
        "    '\\n<body>',\r\n",
        "    '\\n<div class=\"container-md mx-3\">'\r\n",
        "    )\r\n",
        "\r\n",
        "if __name__ == \"__main__\":\r\n",
        "    #to_browser()\r\n",
        "    element = 'swot_dictionary'\r\n",
        "    matplot(element)\r\n",
        "    #print(\"</div></body></html>\",)\r\n",
        "    !date"
      ],
      "execution_count": 124,
      "outputs": [
        {
          "output_type": "stream",
          "text": [
            "\n",
            "<!!--matplot_data\n",
            "\n",
            "<br>\n",
            "[1, 2, 3, 4] [1, 2, 3, 4] [10.0, 1.0, 5.0, 9.0]\n",
            "<!--разбивка по абсцисс и значения ординат\n",
            " 4 [0, 1, 2, 3] [10.0, 1.0, 5.0, 9.0]  -->\n",
            "\n",
            "<div class=\"d-flex flex-row \">\n",
            "<div class=\"card m-1\" style=\"width: 28rem;\"> <img  src=\"/content/drive/MyDrive/Colab Notebooks/swot/strengths.png\" class=\"card-img-top\" alt=\"...\"> <div class=\"card-body\">\n",
            "1  -  1 ; \n",
            "2  -  2 ; \n",
            "3  -  3 ; \n",
            "4  -  4 ; \n",
            "</div> </div>\n",
            "<div>\n",
            "Wed Mar  3 22:59:15 MSK 2021\n",
            "Wed Mar  3 22:59:15 MSK 2021\n"
          ],
          "name": "stdout"
        }
      ]
    },
    {
      "cell_type": "code",
      "metadata": {
        "colab": {
          "base_uri": "https://localhost:8080/"
        },
        "id": "f4YbmyA7F_QN",
        "outputId": "3c1f2846-8e6b-4c3a-afd7-8b19658db0a2"
      },
      "source": [
        "print(\"weaknesses\")\r\n",
        "\r\n",
        "worksheet = table.worksheet(\"weaknesses\")\r\n",
        "rows = worksheet.get_all_values()\r\n",
        "wname = list()\r\n",
        "importance  = list()\r\n",
        "possibility = list()\r\n",
        "wpower = list()\r\n",
        "i=0\r\n",
        "for row in rows:\r\n",
        "  if(i>0):\r\n",
        "    print (i, row)\r\n",
        "    wname.append(row[0])\r\n",
        "    importance .append(int(row[1]))\r\n",
        "    possibility.append(float(row[2]))\r\n",
        "    wpower.append(float(row[2])*int(row[1]))\r\n",
        "  i+=1\r\n",
        "for j in range(len(wname)):\r\n",
        "  print(wname[j],\"\\n\", \"importance: \",importance[j], \"possibility: \", possibility[j], \"power: \", wpower[j])\r\n",
        "weaknesses = sum(wpower)\r\n",
        "print(\"overall power: \", weaknesses)\r\n",
        "worksheet = table.worksheet(\"summary\")\r\n",
        "worksheet.update(\"B2\",opportunities)"
      ],
      "execution_count": 125,
      "outputs": [
        {
          "output_type": "stream",
          "text": [
            "weaknesses\n",
            "1 ['отсутствие опыта работы с детьми ', '9', '0.8', '7.2']\n",
            "2 ['отсутствие клиентской базы', '9', '0.8', '7.2']\n",
            "3 ['недостаток финансовых ресурсов', '8', '0.5', '4']\n",
            "4 ['нехватка кадров', '6', '0.3', '1.8']\n",
            "отсутствие опыта работы с детьми  \n",
            " importance:  9 possibility:  0.8 power:  7.2\n",
            "отсутствие клиентской базы \n",
            " importance:  9 possibility:  0.8 power:  7.2\n",
            "недостаток финансовых ресурсов \n",
            " importance:  8 possibility:  0.5 power:  4.0\n",
            "нехватка кадров \n",
            " importance:  6 possibility:  0.3 power:  1.7999999999999998\n",
            "overall power:  20.2\n"
          ],
          "name": "stdout"
        },
        {
          "output_type": "execute_result",
          "data": {
            "text/plain": [
              "{'spreadsheetId': '1eyKAnrIGESkF_5K7kDg2xMZEr2xf2EvIV-tFhBDMhGg',\n",
              " 'updatedCells': 1,\n",
              " 'updatedColumns': 1,\n",
              " 'updatedRange': 'summary!B2',\n",
              " 'updatedRows': 1}"
            ]
          },
          "metadata": {
            "tags": []
          },
          "execution_count": 125
        }
      ]
    },
    {
      "cell_type": "code",
      "metadata": {
        "colab": {
          "base_uri": "https://localhost:8080/"
        },
        "id": "lyr23CtSgGz5",
        "outputId": "a186f067-4a26-4603-d33a-3e9acbeb6cb8"
      },
      "source": [
        "import matplotlib\r\n",
        "matplotlib.use('Agg')\r\n",
        "import matplotlib.pyplot as plt\r\n",
        "import json\r\n",
        "\r\n",
        "def matplot(element):\r\n",
        "    import matplotlib.pyplot as plt\r\n",
        "    x=list()\r\n",
        "    x_float=list()\r\n",
        "    title=list()\r\n",
        "    y_float=list()\r\n",
        "    \r\n",
        "    print('\\n<!!--matplot_data')\r\n",
        "    print('\\n<br>')\r\n",
        "    title = list(range(1,len(wname)+1))\r\n",
        "    x=title\r\n",
        "    x_float = list(range(1,len(wname)+1))\r\n",
        "    #title.append(data['name'])\r\n",
        "    result = weaknesses\r\n",
        "    y = wpower\r\n",
        "    y_float =wpower\r\n",
        "    print(x_float,title,y_float)    \r\n",
        "    x_pos=list()\r\n",
        "    for i in range(x_float.__len__()):\r\n",
        "        x_pos.append(i)\r\n",
        "    print('<!--разбивка по абсцисс и значения ординат\\n', len( x_float), x_pos, y_float, ' -->\\n')\r\n",
        "\r\n",
        "    fig=plt.figure(figsize=(8,6), dpi=72)\r\n",
        "    plt.bar(x_pos, y_float, width=0.75, align='edge', alpha=0.4)\r\n",
        "    plt.xticks(x_pos,  x_float, fontsize=14)\r\n",
        "    plt.xlabel('Обозначения', fontsize=14)\r\n",
        "    plt.ylabel('Мощность воздействия', fontsize=14)\r\n",
        "    plt.title('weaknesses', fontsize=14)\r\n",
        "    plt.grid(True, color='r', linestyle='-', linewidth=2)\r\n",
        "    #plt.draw()\r\n",
        "    plt.show()\r\n",
        "    fig.savefig(\"/content/drive/MyDrive/Colab Notebooks/swot/weaknesses.png\")\r\n",
        "    print('<div class=\"d-flex flex-row \">')\r\n",
        "    print('<div class=\"card m-1\" style=\"width: 28rem;\">',\r\n",
        "          '<img  src=\"/content/drive/MyDrive/Colab Notebooks/swot/weaknesses.png\" class=\"card-img-top\" alt=\"...\">',\r\n",
        "          '<div class=\"card-body\">')\r\n",
        "    \r\n",
        "    for i in range(title.__len__()):\r\n",
        "        print(i+1, \" - \", title[i], \"; \")\r\n",
        "        i += 1\r\n",
        "    print('</div>', '</div>')\r\n",
        "    print('<div>')\r\n",
        "    !date\r\n",
        "    \r\n",
        "\r\n",
        "def  to_browser():\r\n",
        "    print(\"Content-type:text/html\\r\\n\")\r\n",
        "    print('\\n',\r\n",
        "    '\\n<html>\\n<head>\\n<title>SWOT</title>\\n<meta charset=\"UTF-8\">',\r\n",
        "    '\\n<meta name=\"viewport\" content=\"width=device-width, initial-scale=1.0\">',\r\n",
        "    '\\n<meta http-equiv=\"X-UA-Compatible\" content=\"ie=edge\">',\r\n",
        "    '\\n<link rel=\"stylesheet\" href=\"https://maxcdn.bootstrapcdn.com/bootstrap/4.0.0-beta/css/bootstrap.min.css\" integrity=\"sha384-/Y6pD6FV/Vv2HJnA6t+vslU6fwYXjCFtcEpHbNJ0lyAFsXTsjBbfaDjzALeQsN6M\" crossorigin=\"anonymous\">',\r\n",
        "    '\\n</head>',\r\n",
        "    '\\n<body>',\r\n",
        "    '\\n<div class=\"container-md mx-3\">'\r\n",
        "    )\r\n",
        "\r\n",
        "if __name__ == \"__main__\":\r\n",
        "    #to_browser()\r\n",
        "    element = 'swot_dictionary'\r\n",
        "    matplot(element)\r\n",
        "    #print(\"</div></body></html>\",)\r\n",
        "    !date"
      ],
      "execution_count": 126,
      "outputs": [
        {
          "output_type": "stream",
          "text": [
            "\n",
            "<!!--matplot_data\n",
            "\n",
            "<br>\n",
            "[1, 2, 3, 4] [1, 2, 3, 4] [7.2, 7.2, 4.0, 1.7999999999999998]\n",
            "<!--разбивка по абсцисс и значения ординат\n",
            " 4 [0, 1, 2, 3] [7.2, 7.2, 4.0, 1.7999999999999998]  -->\n",
            "\n",
            "<div class=\"d-flex flex-row \">\n",
            "<div class=\"card m-1\" style=\"width: 28rem;\"> <img  src=\"/content/drive/MyDrive/Colab Notebooks/swot/weaknesses.png\" class=\"card-img-top\" alt=\"...\"> <div class=\"card-body\">\n",
            "1  -  1 ; \n",
            "2  -  2 ; \n",
            "3  -  3 ; \n",
            "4  -  4 ; \n",
            "</div> </div>\n",
            "<div>\n",
            "Wed Mar  3 22:59:29 MSK 2021\n",
            "Wed Mar  3 22:59:29 MSK 2021\n"
          ],
          "name": "stdout"
        }
      ]
    },
    {
      "cell_type": "code",
      "metadata": {
        "colab": {
          "base_uri": "https://localhost:8080/"
        },
        "id": "5R7d01oEGaUj",
        "outputId": "6fae203a-40c4-40a8-871b-c3fe44b1c107"
      },
      "source": [
        "print(\"opportunities\")\r\n",
        "\r\n",
        "worksheet = table.worksheet(\"opportunities\")\r\n",
        "rows = worksheet.get_all_values()\r\n",
        "oname = list()\r\n",
        "importance  = list()\r\n",
        "possibility = list()\r\n",
        "opower = list()\r\n",
        "i=0\r\n",
        "for row in rows:\r\n",
        "  if(i>0):\r\n",
        "    print (i, row)\r\n",
        "    oname.append(row[0])\r\n",
        "    importance .append(int(row[1]))\r\n",
        "    possibility.append(float(row[2]))\r\n",
        "    opower.append(float(row[2])*int(row[1]))\r\n",
        "  i+=1\r\n",
        "for j in range(len(oname)):\r\n",
        "  print(oname[j],\"\\n\", \"importance: \",importance[j], \"possibility: \", possibility[j], \"power: \", opower[j])\r\n",
        "opportunities = sum(opower)\r\n",
        "print(\"overall power: \", opportunities)\r\n",
        "worksheet = table.worksheet(\"summary\")\r\n",
        "worksheet.update(\"B3\",opportunities)"
      ],
      "execution_count": 127,
      "outputs": [
        {
          "output_type": "stream",
          "text": [
            "opportunities\n",
            "1 ['спрос на услугу', '5', '0.5', '2.5']\n",
            "2 ['возможность быстро организовать процесс ', '3', '0.6', '1.8']\n",
            "3 ['уникальность услуги ', '10', '1', '10']\n",
            "4 ['желание работать с детьми ', '10', '1', '10']\n",
            "спрос на услугу \n",
            " importance:  5 possibility:  0.5 power:  2.5\n",
            "возможность быстро организовать процесс  \n",
            " importance:  3 possibility:  0.6 power:  1.7999999999999998\n",
            "уникальность услуги  \n",
            " importance:  10 possibility:  1.0 power:  10.0\n",
            "желание работать с детьми  \n",
            " importance:  10 possibility:  1.0 power:  10.0\n",
            "overall power:  24.3\n"
          ],
          "name": "stdout"
        },
        {
          "output_type": "execute_result",
          "data": {
            "text/plain": [
              "{'spreadsheetId': '1eyKAnrIGESkF_5K7kDg2xMZEr2xf2EvIV-tFhBDMhGg',\n",
              " 'updatedCells': 1,\n",
              " 'updatedColumns': 1,\n",
              " 'updatedRange': 'summary!B3',\n",
              " 'updatedRows': 1}"
            ]
          },
          "metadata": {
            "tags": []
          },
          "execution_count": 127
        }
      ]
    },
    {
      "cell_type": "code",
      "metadata": {
        "colab": {
          "base_uri": "https://localhost:8080/"
        },
        "id": "l-S23L3reYab",
        "outputId": "2bb585ef-f7ef-4642-9af7-0a913750a3cc"
      },
      "source": [
        "import matplotlib\r\n",
        "matplotlib.use('Agg')\r\n",
        "import matplotlib.pyplot as plt\r\n",
        "\r\n",
        "def matplot(element):\r\n",
        "    import matplotlib.pyplot as plt\r\n",
        "    x=list()\r\n",
        "    x_float=list()\r\n",
        "    title=list()\r\n",
        "    y_float=list()\r\n",
        "    \r\n",
        "    print('\\n<!!--matplot_data')\r\n",
        "    print('\\n<br>')\r\n",
        "    title = list(range(1,len(oname)+1))\r\n",
        "    x=title\r\n",
        "    x_float = list(range(1,len(oname)+1))\r\n",
        "    #title.append(data['name'])\r\n",
        "    result = opportunities\r\n",
        "    y = opower\r\n",
        "    y_float = opower\r\n",
        "    print(x_float,title,y_float)    \r\n",
        "    x_pos=list()\r\n",
        "    for i in range(x_float.__len__()):\r\n",
        "        x_pos.append(i)\r\n",
        "    print('<!--разбивка по абсцисс и значения ординат\\n', len( x_float), x_pos, y_float, ' -->\\n')\r\n",
        "\r\n",
        "    fig=plt.figure(figsize=(8,6), dpi=72)\r\n",
        "    plt.bar(x_pos, y_float, width=0.75, align='edge', alpha=0.4)\r\n",
        "    plt.xticks(x_pos,  x_float, fontsize=14)\r\n",
        "    plt.xlabel('Обозначения', fontsize=14)\r\n",
        "    plt.ylabel('Мощность воздействия', fontsize=14)\r\n",
        "    plt.title('opportunities', fontsize=14)\r\n",
        "    plt.grid(True, color='r', linestyle='-', linewidth=2)\r\n",
        "    #plt.draw()\r\n",
        "    plt.show()\r\n",
        "    fig.savefig(\"/content/drive/MyDrive/Colab Notebooks/swot/opportunities.png\")\r\n",
        "    print('<div class=\"d-flex flex-row \">')\r\n",
        "    print('<div class=\"card m-1\" style=\"width: 28rem;\">',\r\n",
        "          '<img  src=\"/content/drive/MyDrive/Colab Notebooks/swot/opportunities.png\" class=\"card-img-top\" alt=\"...\">',\r\n",
        "          '<div class=\"card-body\">')\r\n",
        "    \r\n",
        "    for i in range(title.__len__()):\r\n",
        "        print(i+1, \" - \", title[i], \"; \")\r\n",
        "        i += 1\r\n",
        "    print('</div>', '</div>')\r\n",
        "    print('<div>')\r\n",
        "    !date\r\n",
        "    \r\n",
        "\r\n",
        "def  to_browser():\r\n",
        "    print(\"Content-type:text/html\\r\\n\")\r\n",
        "    print('\\n',\r\n",
        "    '\\n<html>\\n<head>\\n<title>SWOT</title>\\n<meta charset=\"UTF-8\">',\r\n",
        "    '\\n<meta name=\"viewport\" content=\"width=device-width, initial-scale=1.0\">',\r\n",
        "    '\\n<meta http-equiv=\"X-UA-Compatible\" content=\"ie=edge\">',\r\n",
        "    '\\n<link rel=\"stylesheet\" href=\"https://maxcdn.bootstrapcdn.com/bootstrap/4.0.0-beta/css/bootstrap.min.css\" integrity=\"sha384-/Y6pD6FV/Vv2HJnA6t+vslU6fwYXjCFtcEpHbNJ0lyAFsXTsjBbfaDjzALeQsN6M\" crossorigin=\"anonymous\">',\r\n",
        "    '\\n</head>',\r\n",
        "    '\\n<body>',\r\n",
        "    '\\n<div class=\"container-md mx-3\">'\r\n",
        "    )\r\n",
        "\r\n",
        "if __name__ == \"__main__\":\r\n",
        "    #to_browser()\r\n",
        "    element = 'swot_dictionary'\r\n",
        "    matplot(element)\r\n",
        "    #print(\"</div></body></html>\",)\r\n",
        "    !date"
      ],
      "execution_count": 128,
      "outputs": [
        {
          "output_type": "stream",
          "text": [
            "\n",
            "<!!--matplot_data\n",
            "\n",
            "<br>\n",
            "[1, 2, 3, 4] [1, 2, 3, 4] [2.5, 1.7999999999999998, 10.0, 10.0]\n",
            "<!--разбивка по абсцисс и значения ординат\n",
            " 4 [0, 1, 2, 3] [2.5, 1.7999999999999998, 10.0, 10.0]  -->\n",
            "\n",
            "<div class=\"d-flex flex-row \">\n",
            "<div class=\"card m-1\" style=\"width: 28rem;\"> <img  src=\"/content/drive/MyDrive/Colab Notebooks/swot/opportunities.png\" class=\"card-img-top\" alt=\"...\"> <div class=\"card-body\">\n",
            "1  -  1 ; \n",
            "2  -  2 ; \n",
            "3  -  3 ; \n",
            "4  -  4 ; \n",
            "</div> </div>\n",
            "<div>\n"
          ],
          "name": "stdout"
        },
        {
          "output_type": "stream",
          "text": [
            "/usr/local/lib/python3.7/dist-packages/ipykernel_launcher.py:27: RuntimeWarning: More than 20 figures have been opened. Figures created through the pyplot interface (`matplotlib.pyplot.figure`) are retained until explicitly closed and may consume too much memory. (To control this warning, see the rcParam `figure.max_open_warning`).\n"
          ],
          "name": "stderr"
        },
        {
          "output_type": "stream",
          "text": [
            "Wed Mar  3 22:59:40 MSK 2021\n",
            "Wed Mar  3 22:59:40 MSK 2021\n"
          ],
          "name": "stdout"
        }
      ]
    },
    {
      "cell_type": "code",
      "metadata": {
        "colab": {
          "base_uri": "https://localhost:8080/"
        },
        "id": "Ou316RK2JQv5",
        "outputId": "ec2a57cf-51da-49c2-aa87-2f8b040ff11e"
      },
      "source": [
        "print(\"threats\")\r\n",
        "\r\n",
        "worksheet = table.worksheet(\"threats\")\r\n",
        "rows = worksheet.get_all_values()\r\n",
        "tname = list()\r\n",
        "importance  = list()\r\n",
        "possibility = list()\r\n",
        "tpower = list()\r\n",
        "i=0\r\n",
        "for row in rows:\r\n",
        "  if(i>0):\r\n",
        "    print (i, row)\r\n",
        "    tname.append(row[0])\r\n",
        "    importance .append(int(row[1]))\r\n",
        "    possibility.append(float(row[2]))\r\n",
        "    tpower.append(float(row[2])*int(row[1]))\r\n",
        "  i+=1\r\n",
        "for j in range(len(name)):\r\n",
        "  print(tname[j],\"\\n\", \"importance: \",importance[j], \"possibility: \", possibility[j], \"power: \", tpower[j])\r\n",
        "threats = sum(tpower)\r\n",
        "print(\"overall power: \", threats)\r\n",
        "worksheet = table.worksheet(\"summary\")\r\n",
        "worksheet.update(\"B4\",opportunities)"
      ],
      "execution_count": 129,
      "outputs": [
        {
          "output_type": "stream",
          "text": [
            "threats\n",
            "1 ['Затруднения клиентов оплачивать услугу', '2', '0.4', '0.8']\n",
            "2 ['Угроза вхождения на рынок новых участников', '8', '0.7', '5.6']\n",
            "3 ['Угроза появления субститутов (заменителей )', '1', '0.9', '0.9']\n",
            "4 ['рыночная власть покупателей', '9', '0.9', '8.1']\n",
            "5 ['Рыночная власть поставщиков', '9', '0.1', '0.9']\n",
            "6 ['Соперничество между действующими конкурентами', '8', '0.7', '5.6']\n",
            "overall power:  21.9\n"
          ],
          "name": "stdout"
        },
        {
          "output_type": "execute_result",
          "data": {
            "text/plain": [
              "{'spreadsheetId': '1eyKAnrIGESkF_5K7kDg2xMZEr2xf2EvIV-tFhBDMhGg',\n",
              " 'updatedCells': 1,\n",
              " 'updatedColumns': 1,\n",
              " 'updatedRange': 'summary!B4',\n",
              " 'updatedRows': 1}"
            ]
          },
          "metadata": {
            "tags": []
          },
          "execution_count": 129
        }
      ]
    },
    {
      "cell_type": "code",
      "metadata": {
        "colab": {
          "base_uri": "https://localhost:8080/"
        },
        "id": "fTvsUuzPZ_nb",
        "outputId": "9308d1e5-d6b7-4286-d36f-9dd701f6b172"
      },
      "source": [
        "import matplotlib\r\n",
        "matplotlib.use('Agg')\r\n",
        "import matplotlib.pyplot as plt\r\n",
        "\r\n",
        "def matplot(element):\r\n",
        "    import matplotlib.pyplot as plt\r\n",
        "    x=list()\r\n",
        "    x_float=list()\r\n",
        "    title=list()\r\n",
        "    y_float=list()\r\n",
        "    \r\n",
        "    print('\\n<!!--matplot_data')\r\n",
        "    print('\\n<br>')\r\n",
        "    title = list(range(1,len(tname)+1))\r\n",
        "    x=title\r\n",
        "    x_float = list(range(1,len(tname)+1))\r\n",
        "    #title.append(data['name'])\r\n",
        "    result = threats\r\n",
        "    y = tpower\r\n",
        "    y_float = tpower\r\n",
        "    print(x_float,title,y_float)    \r\n",
        "    x_pos=list()\r\n",
        "    for i in range(x_float.__len__()):\r\n",
        "        x_pos.append(i)\r\n",
        "    print('<!--разбивка по абсцисс и значения ординат\\n', len( x_float), x_pos, y_float, ' -->\\n')\r\n",
        "\r\n",
        "    fig=plt.figure(figsize=(8,6), dpi=72)\r\n",
        "    plt.bar(x_pos, y_float, width=0.75, align='edge', alpha=0.4)\r\n",
        "    plt.xticks(x_pos,  x_float, fontsize=14)\r\n",
        "    plt.xlabel('Обозначения', fontsize=14)\r\n",
        "    plt.ylabel('Мощность воздействия', fontsize=14)\r\n",
        "    plt.title('threats', fontsize=14)\r\n",
        "    plt.grid(True, color='r', linestyle='-', linewidth=2)\r\n",
        "    #plt.draw()\r\n",
        "    plt.show()\r\n",
        "    fig.savefig(\"/content/drive/MyDrive/Colab Notebooks/swot/threats.png\")\r\n",
        "    print('<div class=\"d-flex flex-row \">')\r\n",
        "    print('<div class=\"card m-1\" style=\"width: 28rem;\">',\r\n",
        "          '<img  src=\"/content/drive/MyDrive/Colab Notebooks/swot/threats.png\" class=\"card-img-top\" alt=\"...\">',\r\n",
        "          '<div class=\"card-body\">')\r\n",
        "    \r\n",
        "    for i in range(title.__len__()):\r\n",
        "        print(i+1, \" - \", title[i], \"; \")\r\n",
        "        i += 1\r\n",
        "    print('</div>', '</div>')\r\n",
        "    print('<div>')\r\n",
        "    !date\r\n",
        "    \r\n",
        "\r\n",
        "def  to_browser():\r\n",
        "    print(\"Content-type:text/html\\r\\n\")\r\n",
        "    print('\\n',\r\n",
        "    '\\n<html>\\n<head>\\n<title>SWOT</title>\\n<meta charset=\"UTF-8\">',\r\n",
        "    '\\n<meta name=\"viewport\" content=\"width=device-width, initial-scale=1.0\">',\r\n",
        "    '\\n<meta http-equiv=\"X-UA-Compatible\" content=\"ie=edge\">',\r\n",
        "    '\\n<link rel=\"stylesheet\" href=\"https://maxcdn.bootstrapcdn.com/bootstrap/4.0.0-beta/css/bootstrap.min.css\" integrity=\"sha384-/Y6pD6FV/Vv2HJnA6t+vslU6fwYXjCFtcEpHbNJ0lyAFsXTsjBbfaDjzALeQsN6M\" crossorigin=\"anonymous\">',\r\n",
        "    '\\n</head>',\r\n",
        "    '\\n<body>',\r\n",
        "    '\\n<div class=\"container-md mx-3\">'\r\n",
        "    )\r\n",
        "\r\n",
        "if __name__ == \"__main__\":\r\n",
        "    #to_browser()\r\n",
        "    element = 'swot_dictionary'\r\n",
        "    matplot(element)\r\n",
        "    #print(\"</div></body></html>\",)\r\n",
        "    !date"
      ],
      "execution_count": 130,
      "outputs": [
        {
          "output_type": "stream",
          "text": [
            "\n",
            "<!!--matplot_data\n",
            "\n",
            "<br>\n",
            "[1, 2, 3, 4, 5, 6] [1, 2, 3, 4, 5, 6] [0.8, 5.6, 0.9, 8.1, 0.9, 5.6]\n",
            "<!--разбивка по абсцисс и значения ординат\n",
            " 6 [0, 1, 2, 3, 4, 5] [0.8, 5.6, 0.9, 8.1, 0.9, 5.6]  -->\n",
            "\n",
            "<div class=\"d-flex flex-row \">\n",
            "<div class=\"card m-1\" style=\"width: 28rem;\"> <img  src=\"/content/drive/MyDrive/Colab Notebooks/swot/threats.png\" class=\"card-img-top\" alt=\"...\"> <div class=\"card-body\">\n",
            "1  -  1 ; \n",
            "2  -  2 ; \n",
            "3  -  3 ; \n",
            "4  -  4 ; \n",
            "5  -  5 ; \n",
            "6  -  6 ; \n",
            "</div> </div>\n",
            "<div>\n"
          ],
          "name": "stdout"
        },
        {
          "output_type": "stream",
          "text": [
            "/usr/local/lib/python3.7/dist-packages/ipykernel_launcher.py:27: RuntimeWarning: More than 20 figures have been opened. Figures created through the pyplot interface (`matplotlib.pyplot.figure`) are retained until explicitly closed and may consume too much memory. (To control this warning, see the rcParam `figure.max_open_warning`).\n"
          ],
          "name": "stderr"
        },
        {
          "output_type": "stream",
          "text": [
            "Wed Mar  3 22:59:50 MSK 2021\n",
            "Wed Mar  3 22:59:50 MSK 2021\n"
          ],
          "name": "stdout"
        }
      ]
    },
    {
      "cell_type": "code",
      "metadata": {
        "colab": {
          "base_uri": "https://localhost:8080/"
        },
        "id": "7RvysaNoNEFL",
        "outputId": "c71c6aa0-1ca1-4a7b-ae02-96076f7e3179"
      },
      "source": [
        "import matplotlib\r\n",
        "matplotlib.use('Agg')\r\n",
        "import matplotlib.pyplot as plt\r\n",
        "import json\r\n",
        "\r\n",
        "def matplot(element):\r\n",
        "    import matplotlib.pyplot as plt\r\n",
        "    x=list()\r\n",
        "    x_float=list()\r\n",
        "    title=list()\r\n",
        "    y_float=list()\r\n",
        "    \r\n",
        "    print('\\n<!!--matplot_data')\r\n",
        "    print('\\n<br>')\r\n",
        "    title = [ \"strengths\", \"weaknesses\", \"opportunities\", \"threats\", \"result\"]\r\n",
        "    x=title\r\n",
        "    x_float = [ \"strengths\", \"weaknesses\", \"opportunities\", \"threats\", \"result\"]\r\n",
        "    #title.append(data['name'])\r\n",
        "    result = strengths- weaknesses +opportunities -threats\r\n",
        "    y = [strengths, weaknesses, opportunities, threats]\r\n",
        "    y_float = [strengths, -weaknesses, opportunities, -threats,result]\r\n",
        "    print(x_float,title,y_float)    \r\n",
        "    x_pos=list()\r\n",
        "    for i in range(x_float.__len__()):\r\n",
        "        x_pos.append(i)\r\n",
        "    print('<!--разбивка по абсцисс и значения ординат\\n', len( x_float), x_pos, y_float, ' -->\\n')\r\n",
        "\r\n",
        "    fig=plt.figure(figsize=(8,6), dpi=72)\r\n",
        "    plt.bar(x_pos, y_float, width=0.75, align='edge', alpha=0.4)\r\n",
        "    plt.xticks(x_pos,  x_float, fontsize=11)\r\n",
        "    plt.xlabel('Обозначения', fontsize=14)\r\n",
        "    plt.ylabel('Мощность воздействия', fontsize=14)\r\n",
        "    plt.title('SWOT', fontsize=14)\r\n",
        "    plt.grid(True, color='r', linestyle='-', linewidth=2)\r\n",
        "    #plt.draw()\r\n",
        "    plt.show()\r\n",
        "    fig.savefig(\"/content/drive/MyDrive/Colab Notebooks/swot/overall.png\")\r\n",
        "    print('<div class=\"d-flex flex-row \">')\r\n",
        "    print('<div class=\"card m-1\" style=\"width: 28rem;\">',\r\n",
        "          '<img  src=\"/content/drive/MyDrive/Colab Notebooks/swot/overall.png\" class=\"card-img-top\" alt=\"...\">',\r\n",
        "          '<div class=\"card-body\">')\r\n",
        "    \r\n",
        "    for i in range(title.__len__()):\r\n",
        "        print(i+1, \" - \", title[i], \"; \")\r\n",
        "        i += 1\r\n",
        "    print('</div>', '</div>')\r\n",
        "    print('<div>')\r\n",
        "    !date\r\n",
        "    \r\n",
        "\r\n",
        "def  to_browser():\r\n",
        "    print(\"Content-type:text/html\\r\\n\")\r\n",
        "    print('\\n',\r\n",
        "    '\\n<html>\\n<head>\\n<title>SWOT</title>\\n<meta charset=\"UTF-8\">',\r\n",
        "    '\\n<meta name=\"viewport\" content=\"width=device-width, initial-scale=1.0\">',\r\n",
        "    '\\n<meta http-equiv=\"X-UA-Compatible\" content=\"ie=edge\">',\r\n",
        "    '\\n<link rel=\"stylesheet\" href=\"https://maxcdn.bootstrapcdn.com/bootstrap/4.0.0-beta/css/bootstrap.min.css\" integrity=\"sha384-/Y6pD6FV/Vv2HJnA6t+vslU6fwYXjCFtcEpHbNJ0lyAFsXTsjBbfaDjzALeQsN6M\" crossorigin=\"anonymous\">',\r\n",
        "    '\\n</head>',\r\n",
        "    '\\n<body>',\r\n",
        "    '\\n<div class=\"container-md mx-3\">'\r\n",
        "    )\r\n",
        "\r\n",
        "if __name__ == \"__main__\":\r\n",
        "    #to_browser()\r\n",
        "    element = 'swot_dictionary'\r\n",
        "    matplot(element)\r\n",
        "    #print(\"</div></body></html>\",)\r\n",
        "    !date"
      ],
      "execution_count": 131,
      "outputs": [
        {
          "output_type": "stream",
          "text": [
            "\n",
            "<!!--matplot_data\n",
            "\n",
            "<br>\n",
            "['strengths', 'weaknesses', 'opportunities', 'threats', 'result'] ['strengths', 'weaknesses', 'opportunities', 'threats', 'result'] [25.0, -20.2, 24.3, -21.9, 7.200000000000003]\n",
            "<!--разбивка по абсцисс и значения ординат\n",
            " 5 [0, 1, 2, 3, 4] [25.0, -20.2, 24.3, -21.9, 7.200000000000003]  -->\n",
            "\n",
            "<div class=\"d-flex flex-row \">\n",
            "<div class=\"card m-1\" style=\"width: 28rem;\"> <img  src=\"/content/drive/MyDrive/Colab Notebooks/swot/overall.png\" class=\"card-img-top\" alt=\"...\"> <div class=\"card-body\">\n",
            "1  -  strengths ; \n",
            "2  -  weaknesses ; \n",
            "3  -  opportunities ; \n",
            "4  -  threats ; \n",
            "5  -  result ; \n",
            "</div> </div>\n",
            "<div>\n"
          ],
          "name": "stdout"
        },
        {
          "output_type": "stream",
          "text": [
            "/usr/local/lib/python3.7/dist-packages/ipykernel_launcher.py:28: RuntimeWarning: More than 20 figures have been opened. Figures created through the pyplot interface (`matplotlib.pyplot.figure`) are retained until explicitly closed and may consume too much memory. (To control this warning, see the rcParam `figure.max_open_warning`).\n"
          ],
          "name": "stderr"
        },
        {
          "output_type": "stream",
          "text": [
            "Wed Mar  3 23:00:00 MSK 2021\n",
            "Wed Mar  3 23:00:00 MSK 2021\n"
          ],
          "name": "stdout"
        }
      ]
    },
    {
      "cell_type": "code",
      "metadata": {
        "colab": {
          "base_uri": "https://localhost:8080/"
        },
        "id": "_1BpE9I0TKe3",
        "outputId": "d482041c-ce36-4afe-c128-41b37a7a3724"
      },
      "source": [
        "!apt-get install texlive texlive-xetex texlive-latex-extra pandoc\r\n",
        "!pip install pypandoc"
      ],
      "execution_count": 132,
      "outputs": [
        {
          "output_type": "stream",
          "text": [
            "Reading package lists... Done\n",
            "Building dependency tree       \n",
            "Reading state information... Done\n",
            "pandoc is already the newest version (1.19.2.4~dfsg-1build4).\n",
            "texlive is already the newest version (2017.20180305-1).\n",
            "texlive-latex-extra is already the newest version (2017.20180305-2).\n",
            "texlive-xetex is already the newest version (2017.20180305-1).\n",
            "0 upgraded, 0 newly installed, 0 to remove and 29 not upgraded.\n",
            "Requirement already satisfied: pypandoc in /usr/local/lib/python3.7/dist-packages (1.5)\n",
            "Requirement already satisfied: wheel>=0.25.0 in /usr/local/lib/python3.7/dist-packages (from pypandoc) (0.36.2)\n",
            "Requirement already satisfied: pip>=8.1.0 in /usr/local/lib/python3.7/dist-packages (from pypandoc) (19.3.1)\n",
            "Requirement already satisfied: setuptools in /usr/local/lib/python3.7/dist-packages (from pypandoc) (54.0.0)\n"
          ],
          "name": "stdout"
        }
      ]
    },
    {
      "cell_type": "code",
      "metadata": {
        "colab": {
          "base_uri": "https://localhost:8080/"
        },
        "id": "0AUczHwpRU_b",
        "outputId": "f9bebab7-864c-4867-e9d1-6179c72c3b59"
      },
      "source": [
        "!jupyter nbconvert --to pdf \"/content/drive/MyDrive/Colab Notebooks/swot.ipynb\""
      ],
      "execution_count": 133,
      "outputs": [
        {
          "output_type": "stream",
          "text": [
            "[NbConvertApp] Converting notebook /content/drive/MyDrive/Colab Notebooks/swot.ipynb to pdf\n",
            "[NbConvertApp] Writing 91934 bytes to ./notebook.tex\n",
            "[NbConvertApp] Building PDF\n",
            "[NbConvertApp] Running xelatex 3 times: [u'xelatex', u'./notebook.tex', '-quiet']\n",
            "[NbConvertApp] Running bibtex 1 time: [u'bibtex', u'./notebook']\n",
            "[NbConvertApp] WARNING | bibtex had problems, most likely because there were no citations\n",
            "[NbConvertApp] PDF successfully created\n",
            "[NbConvertApp] Writing 62071 bytes to /content/drive/MyDrive/Colab Notebooks/swot.pdf\n"
          ],
          "name": "stdout"
        }
      ]
    }
  ]
}